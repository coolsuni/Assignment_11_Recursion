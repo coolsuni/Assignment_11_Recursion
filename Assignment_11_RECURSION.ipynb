{
 "cells": [
  {
   "cell_type": "code",
   "execution_count": 1,
   "id": "aaf65f45-9d06-4852-901a-e04b091de2cc",
   "metadata": {},
   "outputs": [],
   "source": [
    "#1)Can you explain the logic and working of the Tower of Hanoi algorithm by writing a Java program?\n",
    "#How does the recursion work, and how are the movements of disks between rods accomplished?\n",
    "\n",
    "\n"
   ]
  },
  {
   "cell_type": "code",
   "execution_count": 3,
   "id": "f3f68264-a982-4620-946f-87dd8d35a838",
   "metadata": {},
   "outputs": [],
   "source": [
    "def TowerOfHanoi(n, from_rod, to_rod, aux_rod): \n",
    "    if n == 0: \n",
    "        return\n",
    "    \n",
    "    TowerOfHanoi(n-1, from_rod, aux_rod, to_rod) \n",
    "    print(\"Move disk\", n, \"from rod\", from_rod, \"to rod\", to_rod) \n",
    "        \n",
    "    TowerOfHanoi(n-1, aux_rod, to_rod, from_rod) \n",
    "    \n",
    "    \n",
    "    # time complexity= O(2^N)\n",
    "    # space complexity= O(N)"
   ]
  },
  {
   "cell_type": "code",
   "execution_count": 6,
   "id": "fb568dc7-bf36-4008-90c1-dbe7dfc57a93",
   "metadata": {},
   "outputs": [],
   "source": [
    "N=3"
   ]
  },
  {
   "cell_type": "code",
   "execution_count": 7,
   "id": "d54dc56d-abdb-41a8-952f-79b4a5bae2d6",
   "metadata": {},
   "outputs": [
    {
     "name": "stdout",
     "output_type": "stream",
     "text": [
      "Move disk 1 from rod A to rod C\n",
      "Move disk 2 from rod A to rod B\n",
      "Move disk 1 from rod C to rod B\n",
      "Move disk 3 from rod A to rod C\n",
      "Move disk 1 from rod B to rod A\n",
      "Move disk 2 from rod B to rod C\n",
      "Move disk 1 from rod A to rod C\n"
     ]
    }
   ],
   "source": [
    "TowerOfHanoi(N, 'A', 'C', 'B') "
   ]
  },
  {
   "cell_type": "code",
   "execution_count": 8,
   "id": "32b009a1-cde2-4ba4-b5c3-af605023607e",
   "metadata": {},
   "outputs": [],
   "source": [
    "#2) Given two strings word1 and word2, return the minimum number of operations required to convert word1 to word2.\n",
    "#Example 1:\n",
    "\n",
    "#Input: word1 = \"horse\", word2 = \"ros\"\n",
    "\n",
    "#Output: 3"
   ]
  },
  {
   "cell_type": "code",
   "execution_count": 38,
   "id": "0ccd21c7-6628-4159-9069-290b5437ec0d",
   "metadata": {},
   "outputs": [],
   "source": [
    "class Solution:\n",
    "    def minDistance(self, word1: str, word2: str) -> int:\n",
    "        m, n = len(word1), len(word2)\n",
    "        f = [[0] * (n + 1) for _ in range(m + 1)]\n",
    "        for j in range(1, n + 1):\n",
    "            f[0][j] = j\n",
    "        for i, a in enumerate(word1, 1):\n",
    "            f[i][0] = i\n",
    "            for j, b in enumerate(word2, 1):\n",
    "                if a == b:\n",
    "                    f[i][j] = f[i - 1][j - 1]\n",
    "                else:\n",
    "                    f[i][j] = min(f[i - 1][j], f[i][j - 1], f[i - 1][j - 1]) + 1\n",
    "        return f[m][n]"
   ]
  },
  {
   "cell_type": "code",
   "execution_count": 39,
   "id": "06b385e7-c2a7-4c2e-8655-1311571e7e11",
   "metadata": {},
   "outputs": [],
   "source": [
    "word1: \"horse\"; word2: \"ros\""
   ]
  },
  {
   "cell_type": "code",
   "execution_count": 40,
   "id": "4b1b6030-baec-4a01-93e0-276411b8ddaf",
   "metadata": {},
   "outputs": [],
   "source": [
    "m:5; n:3"
   ]
  },
  {
   "cell_type": "code",
   "execution_count": 42,
   "id": "583b42c6-7a34-41d0-a1b0-5afe156fed79",
   "metadata": {},
   "outputs": [],
   "source": [
    "#3) Print the max value of the array [ 13, 1, -3, 22, 5].\n"
   ]
  },
  {
   "cell_type": "code",
   "execution_count": 45,
   "id": "d7d5f6f0-67d3-4430-99e9-74479a43339f",
   "metadata": {},
   "outputs": [],
   "source": [
    "# Function to find the largest element in the list\n",
    "def FindLargest(itr, ele, list1):\n",
    "\n",
    "\tif itr == len(list1):                                          # base condition\n",
    "\t\tprint(\"Largest element in the list is: \", ele)\n",
    "\t\treturn\n",
    "\n",
    "\t                                                               # Check max condition\n",
    "\tif ele < list1[itr]:\n",
    "\t\tele = list1[itr]\n",
    "\n",
    "\t\t                                                           # Recursive solution\n",
    "\tFindLargest(itr+1, ele, list1)\n",
    "\n",
    "\treturn"
   ]
  },
  {
   "cell_type": "code",
   "execution_count": 46,
   "id": "aada694e-884c-4f93-b144-f3192c330c35",
   "metadata": {},
   "outputs": [],
   "source": [
    "list1= [ 13, 1, -3, 22, 5]"
   ]
  },
  {
   "cell_type": "code",
   "execution_count": 47,
   "id": "eccc6e42-6394-4c6a-a7ac-7b428664f321",
   "metadata": {},
   "outputs": [
    {
     "name": "stdout",
     "output_type": "stream",
     "text": [
      "Largest element in the list is:  22\n"
     ]
    }
   ],
   "source": [
    "FindLargest(0, list1[0], list1)"
   ]
  },
  {
   "cell_type": "code",
   "execution_count": 48,
   "id": "5124a68c-c032-43d3-a90d-780dc03d8c63",
   "metadata": {},
   "outputs": [],
   "source": [
    "#4) Find the sum of the values of the array [92, 23, 15, -20, 10].\n"
   ]
  },
  {
   "cell_type": "code",
   "execution_count": 56,
   "id": "65d89613-01ea-4156-a4da-db6f363f78a6",
   "metadata": {},
   "outputs": [],
   "source": [
    "def _Sum(arr, N): \n",
    "    if N <= 0: \n",
    "        return 0\n",
    "    else: \n",
    "        return _Sum(arr, N - 1) + arr[N - 1] "
   ]
  },
  {
   "cell_type": "code",
   "execution_count": 57,
   "id": "955f921a-d98e-4721-a2e6-d706fbcf7e50",
   "metadata": {},
   "outputs": [],
   "source": [
    "arr= [92, 23, 15, -20, 10]"
   ]
  },
  {
   "cell_type": "code",
   "execution_count": 58,
   "id": "1e23acb5-18eb-4ffb-9e1e-5dec869387c9",
   "metadata": {},
   "outputs": [],
   "source": [
    "N = len(arr) "
   ]
  },
  {
   "cell_type": "code",
   "execution_count": 59,
   "id": "5398f15d-e0bb-4a20-8e2a-4130b34e0160",
   "metadata": {},
   "outputs": [
    {
     "name": "stdout",
     "output_type": "stream",
     "text": [
      "120\n"
     ]
    }
   ],
   "source": [
    "ans =_Sum(arr,N) \n",
    "print (ans) "
   ]
  },
  {
   "cell_type": "code",
   "execution_count": null,
   "id": "74843062-5122-4996-b466-6a007fb47892",
   "metadata": {},
   "outputs": [],
   "source": [
    "#5) Given a number n. Print if it is an armstrong number or not.An armstrong number is a number if the sum of every digit\n",
    "#  in that number raised to the power of total digits in that number is equal to the number.\n",
    " "
   ]
  },
  {
   "cell_type": "code",
   "execution_count": 63,
   "id": "98ab2289-c949-48af-a985-7917f1126999",
   "metadata": {},
   "outputs": [
    {
     "name": "stdin",
     "output_type": "stream",
     "text": [
      "Enter a number:  663\n"
     ]
    }
   ],
   "source": [
    "num = int(input(\"Enter a number: \"))"
   ]
  },
  {
   "cell_type": "code",
   "execution_count": 64,
   "id": "1cf1ffd2-c715-4b94-84a7-b6143d04d369",
   "metadata": {},
   "outputs": [
    {
     "name": "stdout",
     "output_type": "stream",
     "text": [
      "663 is not an Armstrong number\n"
     ]
    }
   ],
   "source": [
    "sum = 0\n",
    "\n",
    "                                                         # find the sum of the cube of each digit\n",
    "temp = num\n",
    "while temp > 0:\n",
    "   digit = temp % 10\n",
    "   sum += digit ** 3\n",
    "   temp //= 10\n",
    "\n",
    "                                                          # display the result\n",
    "if num == sum:\n",
    "   print(num,\"is an Armstrong number\")\n",
    "else:\n",
    "   print(num,\"is not an Armstrong number\")"
   ]
  },
  {
   "cell_type": "code",
   "execution_count": null,
   "id": "271a1bb3-2da9-44a7-b116-afcb8b3df3dd",
   "metadata": {},
   "outputs": [],
   "source": []
  }
 ],
 "metadata": {
  "kernelspec": {
   "display_name": "Python 3 (ipykernel)",
   "language": "python",
   "name": "python3"
  },
  "language_info": {
   "codemirror_mode": {
    "name": "ipython",
    "version": 3
   },
   "file_extension": ".py",
   "mimetype": "text/x-python",
   "name": "python",
   "nbconvert_exporter": "python",
   "pygments_lexer": "ipython3",
   "version": "3.10.8"
  }
 },
 "nbformat": 4,
 "nbformat_minor": 5
}
